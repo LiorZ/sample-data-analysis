{
 "cells": [
  {
   "cell_type": "markdown",
   "metadata": {},
   "source": [
    "Imports\n",
    "---------"
   ]
  },
  {
   "cell_type": "code",
   "execution_count": 349,
   "metadata": {
    "collapsed": true
   },
   "outputs": [],
   "source": [
    "import pandas\n",
    "import numpy as np\n",
    "import matplotlib.pyplot as plt\n",
    "%matplotlib inline"
   ]
  },
  {
   "cell_type": "code",
   "execution_count": 350,
   "metadata": {},
   "outputs": [],
   "source": [
    "raw_df = pandas.read_csv('./movie_metadata.csv')"
   ]
  },
  {
   "cell_type": "code",
   "execution_count": 351,
   "metadata": {},
   "outputs": [
    {
     "data": {
      "text/html": [
       "<div>\n",
       "<table border=\"1\" class=\"dataframe\">\n",
       "  <thead>\n",
       "    <tr style=\"text-align: right;\">\n",
       "      <th></th>\n",
       "      <th>duration</th>\n",
       "      <th>num_voted_users</th>\n",
       "      <th>num_critic_for_reviews</th>\n",
       "      <th>movie_facebook_likes</th>\n",
       "      <th>imdb_score</th>\n",
       "      <th>budget</th>\n",
       "      <th>gross</th>\n",
       "      <th>title_year</th>\n",
       "      <th>director_name</th>\n",
       "      <th>movie_title</th>\n",
       "    </tr>\n",
       "  </thead>\n",
       "  <tbody>\n",
       "    <tr>\n",
       "      <th>0</th>\n",
       "      <td>178.0</td>\n",
       "      <td>886204.0</td>\n",
       "      <td>NaN</td>\n",
       "      <td>33000.0</td>\n",
       "      <td>7.9</td>\n",
       "      <td>NaN</td>\n",
       "      <td>760505847.0</td>\n",
       "      <td>2009.0</td>\n",
       "      <td>James Cameron</td>\n",
       "      <td>Avatar</td>\n",
       "    </tr>\n",
       "    <tr>\n",
       "      <th>1</th>\n",
       "      <td>169.0</td>\n",
       "      <td>471220.0</td>\n",
       "      <td>302.0</td>\n",
       "      <td>0.0</td>\n",
       "      <td>NaN</td>\n",
       "      <td>300000000.0</td>\n",
       "      <td>309404152.0</td>\n",
       "      <td>2007.0</td>\n",
       "      <td>Gore Verbinski</td>\n",
       "      <td>Pirates of the Caribbean: At World's End</td>\n",
       "    </tr>\n",
       "    <tr>\n",
       "      <th>2</th>\n",
       "      <td>148.0</td>\n",
       "      <td>275868.0</td>\n",
       "      <td>602.0</td>\n",
       "      <td>85000.0</td>\n",
       "      <td>6.8</td>\n",
       "      <td>NaN</td>\n",
       "      <td>200074175.0</td>\n",
       "      <td>2015.0</td>\n",
       "      <td>Sam Mendes</td>\n",
       "      <td>Spectre</td>\n",
       "    </tr>\n",
       "    <tr>\n",
       "      <th>3</th>\n",
       "      <td>164.0</td>\n",
       "      <td>1144337.0</td>\n",
       "      <td>813.0</td>\n",
       "      <td>164000.0</td>\n",
       "      <td>8.5</td>\n",
       "      <td>250000000.0</td>\n",
       "      <td>448130642.0</td>\n",
       "      <td>2012.0</td>\n",
       "      <td>Christopher Nolan</td>\n",
       "      <td>The Dark Knight Rises</td>\n",
       "    </tr>\n",
       "    <tr>\n",
       "      <th>4</th>\n",
       "      <td>NaN</td>\n",
       "      <td>8.0</td>\n",
       "      <td>NaN</td>\n",
       "      <td>0.0</td>\n",
       "      <td>7.1</td>\n",
       "      <td>NaN</td>\n",
       "      <td>NaN</td>\n",
       "      <td>NaN</td>\n",
       "      <td>Doug Walker</td>\n",
       "      <td>Star Wars: Episode VII - The Force Awakens    ...</td>\n",
       "    </tr>\n",
       "  </tbody>\n",
       "</table>\n",
       "</div>"
      ],
      "text/plain": [
       "   duration  num_voted_users  num_critic_for_reviews  movie_facebook_likes  \\\n",
       "0     178.0         886204.0                     NaN               33000.0   \n",
       "1     169.0         471220.0                   302.0                   0.0   \n",
       "2     148.0         275868.0                   602.0               85000.0   \n",
       "3     164.0        1144337.0                   813.0              164000.0   \n",
       "4       NaN              8.0                     NaN                   0.0   \n",
       "\n",
       "   imdb_score       budget        gross  title_year      director_name  \\\n",
       "0         7.9          NaN  760505847.0      2009.0      James Cameron   \n",
       "1         NaN  300000000.0  309404152.0      2007.0     Gore Verbinski   \n",
       "2         6.8          NaN  200074175.0      2015.0         Sam Mendes   \n",
       "3         8.5  250000000.0  448130642.0      2012.0  Christopher Nolan   \n",
       "4         7.1          NaN          NaN         NaN        Doug Walker   \n",
       "\n",
       "                                         movie_title  \n",
       "0                                            Avatar   \n",
       "1          Pirates of the Caribbean: At World's End   \n",
       "2                                           Spectre   \n",
       "3                             The Dark Knight Rises   \n",
       "4  Star Wars: Episode VII - The Force Awakens    ...  "
      ]
     },
     "execution_count": 351,
     "metadata": {},
     "output_type": "execute_result"
    }
   ],
   "source": [
    "raw_df.head()"
   ]
  },
  {
   "cell_type": "markdown",
   "metadata": {},
   "source": [
    "Cleaning the data\n",
    "---------------------"
   ]
  },
  {
   "cell_type": "markdown",
   "metadata": {},
   "source": [
    "From a first glance, it looks like many of the entries have missing input. \n",
    "There are several strategies of handling missing data - filling in zeros, min, max, mean of the row and discarding the entry alltogether.\n",
    "For the most of the columns, I selected to fill in random values sampled from the column. That should be a good approximation to sampling from a gaussian with the same mean and std\n",
    "\n",
    "**director_name and movie_title** aren't suitable for this strategy. Therefore, in cases where either is `NaN` i just replaced with \"Unknown\""
   ]
  },
  {
   "cell_type": "code",
   "execution_count": 352,
   "metadata": {},
   "outputs": [],
   "source": [
    "# for col in raw_df.columns:\n",
    "#     if col in ['movie_title','director_name']:\n",
    "#         continue\n",
    "#     rows = raw_df.ix[raw_df[col].isnull(),col]\n",
    "#     raw_df.ix[raw_df[col].isnull(),col] = np.random.choice(raw_df[col].dropna(),len(rows))"
   ]
  },
  {
   "cell_type": "code",
   "execution_count": 353,
   "metadata": {},
   "outputs": [],
   "source": [
    "# raw_df.fillna(value={\"movie_title\":\"Unknown\",\"director_name\":\"Unknown\"},inplace=True);"
   ]
  },
  {
   "cell_type": "markdown",
   "metadata": {},
   "source": [
    "-------------------------------------------------------"
   ]
  },
  {
   "cell_type": "markdown",
   "metadata": {},
   "source": [
    "Basic Analysis\n",
    "-----------------\n",
    "\n",
    "In this basic analysis I will try to answer a business question - which director should the company invest in the future?\n",
    "I'll go through stages, refining the analysis as I progress"
   ]
  },
  {
   "cell_type": "markdown",
   "metadata": {},
   "source": [
    "Cleaning the data\n",
    "------------------"
   ]
  },
  {
   "cell_type": "markdown",
   "metadata": {},
   "source": [
    "To avoid data loss, I decided to apply the following cleaning strategy:\n",
    "    1. For gross,budget and year assign the mean.\n",
    "    2. If all gross/budget values for a director == NaN, remove the director\n",
    "    3. Remove unknown directors"
   ]
  },
  {
   "cell_type": "code",
   "execution_count": 354,
   "metadata": {},
   "outputs": [],
   "source": [
    "for col in ['gross','budget','title_year']:\n",
    "    mean = raw_df.groupby('director_name').mean()[col]\n",
    "    mean_col = raw_df.groupby('director_name').mean()[col]\n",
    "    relevant_directors = mean_col.dropna().index\n",
    "    raw_df = raw_df.set_index('director_name').loc[relevant_directors].reset_index()\n",
    "    na_col = raw_df[raw_df[col].isnull()].apply(lambda x: x.set_value(col,mean_col[x['director_name']]),axis=1)[col]\n",
    "    raw_df.ix[raw_df[col].isnull(),col] = na_col\n",
    "\n",
    "raw_df['title_year'] = raw_df['title_year'].apply(lambda x: np.round(x))"
   ]
  },
  {
   "cell_type": "markdown",
   "metadata": {},
   "source": [
    "**Who is the most revenue generating director?**"
   ]
  },
  {
   "cell_type": "code",
   "execution_count": 355,
   "metadata": {},
   "outputs": [
    {
     "data": {
      "text/plain": [
       "<matplotlib.axes._subplots.AxesSubplot at 0x7f52e4424590>"
      ]
     },
     "execution_count": 355,
     "metadata": {},
     "output_type": "execute_result"
    },
    {
     "data": {
      "image/png": "[encoded data removed]",
      "text/plain": [
       "<matplotlib.figure.Figure at 0x7f52e096d750>"
      ]
     },
     "metadata": {},
     "output_type": "display_data"
    }
   ],
   "source": [
    "raw_df.groupby('director_name')\\\n",
    "      .sum()\\\n",
    "      .sort_values(by='gross',ascending=False)\\\n",
    "      .head()['gross'].plot(kind='bar',title=\"Most profitable director\")"
   ]
  },
  {
   "cell_type": "markdown",
   "metadata": {},
   "source": [
    "Revenue is not enough, we are actually interested in revenue/budget."
   ]
  },
  {
   "cell_type": "markdown",
   "metadata": {},
   "source": [
    "Normalized by budget: (Director with highest ROI)"
   ]
  },
  {
   "cell_type": "code",
   "execution_count": 356,
   "metadata": {},
   "outputs": [
    {
     "data": {
      "text/plain": [
       "<matplotlib.axes._subplots.AxesSubplot at 0x7f52e0984290>"
      ]
     },
     "execution_count": 356,
     "metadata": {},
     "output_type": "execute_result"
    },
    {
     "data": {
      "image/png": "[encoded data removed]",
      "text/plain": [
       "<matplotlib.figure.Figure at 0x7f52e09c70d0>"
      ]
     },
     "metadata": {},
     "output_type": "display_data"
    }
   ],
   "source": [
    "raw_df['gross_d_budget'] = raw_df['gross'] / raw_df['budget']\n",
    "raw_df.groupby('director_name')\\\n",
    "      .sum()\\\n",
    "      .sort_values(by='gross_d_budget',ascending=False)\\\n",
    "      .head()['gross_d_budget'].plot(kind='bar',title=\"Director with highest ROI\")"
   ]
  },
  {
   "cell_type": "markdown",
   "metadata": {},
   "source": [
    "Directors with few movies do not have enough experience. Let's look only at directors with more than 5 movies:"
   ]
  },
  {
   "cell_type": "code",
   "execution_count": 359,
   "metadata": {},
   "outputs": [
    {
     "data": {
      "text/plain": [
       "<matplotlib.axes._subplots.AxesSubplot at 0x7f52e0744d10>"
      ]
     },
     "execution_count": 359,
     "metadata": {},
     "output_type": "execute_result"
    },
    {
     "data": {
      "image/png": "[encoded data removed]",
      "text/plain": [
       "<matplotlib.figure.Figure at 0x7f52e0744710>"
      ]
     },
     "metadata": {},
     "output_type": "display_data"
    }
   ],
   "source": [
    "raw_df['dummy_count'] = 1 #Easier than count..\n",
    "raw_df.groupby('director_name')\\\n",
    "      .sum()\\\n",
    "      .query('dummy_count > 5')\\\n",
    "      .sort_values(by='gross_d_budget',ascending=False)\\\n",
    "      .head()['gross_d_budget'].plot(kind='bar',title=\"Director with highest ROI (#movies > 5)\")"
   ]
  },
  {
   "cell_type": "markdown",
   "metadata": {},
   "source": [
    "The sum of gross/budget isn't actually a good enough measure for success. Here is the example:"
   ]
  },
  {
   "cell_type": "code",
   "execution_count": 360,
   "metadata": {},
   "outputs": [],
   "source": [
    "top_dirs = raw_df.groupby('director_name')\\\n",
    "      .sum()\\\n",
    "      .query('dummy_count > 5')\\\n",
    "      .sort_values(by='gross_d_budget',ascending=False)\\\n",
    "      .head().index"
   ]
  },
  {
   "cell_type": "code",
   "execution_count": 361,
   "metadata": {},
   "outputs": [
    {
     "data": {
      "text/plain": [
       "Index([u'Marc Forster', u'George Miller', u'Sam Raimi', u'John Carpenter',\n",
       "       u'Tobe Hooper'],\n",
       "      dtype='object', name=u'director_name')"
      ]
     },
     "execution_count": 361,
     "metadata": {},
     "output_type": "execute_result"
    }
   ],
   "source": [
    "top_dirs"
   ]
  },
  {
   "cell_type": "code",
   "execution_count": 362,
   "metadata": {},
   "outputs": [
    {
     "data": {
      "text/plain": [
       "<matplotlib.axes._subplots.AxesSubplot at 0x7f52e0875950>"
      ]
     },
     "execution_count": 362,
     "metadata": {},
     "output_type": "execute_result"
    },
    {
     "data": {
      "image/png": "[encoded data removed]",
      "text/plain": [
       "<matplotlib.figure.Figure at 0x7f52e088e6d0>"
      ]
     },
     "metadata": {},
     "output_type": "display_data"
    }
   ],
   "source": [
    "fig = plt.figure(figsize=(10,8))\n",
    "ax = fig.add_subplot(111)\n",
    "raw_df.set_index('director_name').loc[top_dirs].reset_index().boxplot(column='gross_d_budget',by='director_name',ax=ax)"
   ]
  },
  {
   "cell_type": "markdown",
   "metadata": {},
   "source": [
    "For most directors in the plot, we can see there are outliers , very far from the mean.\n",
    "One incredibly successful film can bias our decision. We want a more reliable investment, in a director that has a more certain ROI. Let's examine the director high the higest mean (and more than 5 films)"
   ]
  },
  {
   "cell_type": "code",
   "execution_count": 363,
   "metadata": {
    "collapsed": true
   },
   "outputs": [],
   "source": [
    "more5_films = raw_df.set_index('director_name').loc[raw_df.groupby('director_name').count().reset_index().query('gross > 5')['director_name']].reset_index()"
   ]
  },
  {
   "cell_type": "code",
   "execution_count": 364,
   "metadata": {},
   "outputs": [
    {
     "data": {
      "text/plain": [
       "<matplotlib.axes._subplots.AxesSubplot at 0x7f52e466ec10>"
      ]
     },
     "execution_count": 364,
     "metadata": {},
     "output_type": "execute_result"
    },
    {
     "data": {
      "image/png": "[encoded data removed]",
      "text/plain": [
       "<matplotlib.figure.Figure at 0x7f52e42ef1d0>"
      ]
     },
     "metadata": {},
     "output_type": "display_data"
    }
   ],
   "source": [
    "top_dirs = more5_films.groupby('director_name')\\\n",
    "      .mean()\\\n",
    "      .sort_values(by='gross_d_budget',ascending=False)\\\n",
    "      .head().index;\n",
    "raw_df.set_index('director_name').loc[top_dirs].reset_index().boxplot(column='gross_d_budget',by='director_name')"
   ]
  },
  {
   "cell_type": "markdown",
   "metadata": {},
   "source": [
    "Still, in our list there are directors with outliers that could bias our decision. let's discard the ones with std higher than the mean-std (we are interested in a solid investment)"
   ]
  },
  {
   "cell_type": "code",
   "execution_count": 373,
   "metadata": {},
   "outputs": [],
   "source": [
    "mean_std = more5_films.std()['gross_d_budget']\n",
    "solid_directors = more5_films.groupby('director_name').std().query('gross_d_budget < '+str(mean_std)).index"
   ]
  },
  {
   "cell_type": "code",
   "execution_count": 387,
   "metadata": {},
   "outputs": [],
   "source": [
    "top_dirs = more5_films.set_index('director_name').loc[solid_directors].reset_index()\\\n",
    ".groupby('director_name')\\\n",
    ".mean()\\\n",
    ".sort_values(by='gross_d_budget',ascending=False)[:5].index"
   ]
  },
  {
   "cell_type": "code",
   "execution_count": 392,
   "metadata": {},
   "outputs": [
    {
     "data": {
      "text/plain": [
       "<matplotlib.axes._subplots.AxesSubplot at 0x7f52e132f990>"
      ]
     },
     "execution_count": 392,
     "metadata": {},
     "output_type": "execute_result"
    },
    {
     "data": {
      "image/png": "[encoded data removed]",
      "text/plain": [
       "<matplotlib.figure.Figure at 0x7f52e132fa10>"
      ]
     },
     "metadata": {},
     "output_type": "display_data"
    }
   ],
   "source": [
    "fig = plt.figure(figsize=(10,5))\n",
    "ax = fig.add_subplot(111)\n",
    "more5_films.set_index('director_name').loc[top_dirs].reset_index().boxplot(column='gross_d_budget',by='director_name',ax=ax)"
   ]
  },
  {
   "cell_type": "markdown",
   "metadata": {},
   "source": [
    "**Conclusion:**\n",
    "According to this analysis, Alfred Hitchcock has the best ROI, Mel Brooks is probably next. \n",
    "Since A.Hitchcock isn't active, we may want to continue screening for directors who are active in the last years, have an upward trend in gross/budget and lower std."
   ]
  },
  {
   "cell_type": "code",
   "execution_count": null,
   "metadata": {
    "collapsed": true
   },
   "outputs": [],
   "source": []
  }
 ],
 "metadata": {
  "kernelspec": {
   "display_name": "Python 2",
   "language": "python",
   "name": "python2"
  },
  "language_info": {
   "codemirror_mode": {
    "name": "ipython",
    "version": 2
   },
   "file_extension": ".py",
   "mimetype": "text/x-python",
   "name": "python",
   "nbconvert_exporter": "python",
   "pygments_lexer": "ipython2",
   "version": "2.7.12"
  }
 },
 "nbformat": 4,
 "nbformat_minor": 2
}
